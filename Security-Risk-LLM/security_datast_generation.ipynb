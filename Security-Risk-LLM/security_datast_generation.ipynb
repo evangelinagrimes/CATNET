{
 "cells": [
  {
   "cell_type": "markdown",
   "metadata": {},
   "source": [
    "# Security Dataset Generation\n",
    "This Notebook is intended to generate a security dataset. So far it's columns will consist of paragraph scenarios intended to feed into the LLM we will fine tune"
   ]
  },
  {
   "cell_type": "markdown",
   "metadata": {},
   "source": [
    "### Prompt Template\n",
    "Prompt: Generate a security scenario involving a buisness. The scenario should include specific risks or vulnerabilities, such as cloud systems, employee actions, or third-party services. The scenario should also allud to potential security attacks that could happen in the organization."
   ]
  },
  {
   "cell_type": "markdown",
   "metadata": {},
   "source": [
    "### OpenAI"
   ]
  },
  {
   "cell_type": "code",
   "execution_count": null,
   "metadata": {},
   "outputs": [],
   "source": [
    "attack_map = {\n",
    "    \"Phishing\": \"A social engineering attack to steal sensitive information by impersonating a trustworthy entity.\",\n",
    "    \"Ransomware\": \"Malware that encrypts a victim's files, demanding a ransom to restore access.\",\n",
    "    \"Man-in-the-Middle\": \"An attack where a hacker intercepts communication between two parties to steal data.\",\n",
    "    \"Insider Threats\": \"Security risks originating from within the organization, such as malicious employees.\",\n",
    "    \"DDoS\": \"Distributed denial-of-service attacks to overwhelm systems, causing disruption of services.\",\n",
    "    \"SQL-injection\": \"Exploiting a web app's database query to access or manipulate data\",\n",
    "    \"Cross-Site-Scripting\": \"Injecting malicious scripts into web pages viewed by others.\",\n",
    "    \"Privilege Escalation\": \"This attack exploits vulnerabilities within business systems to gain higher access levels and steal or manipulate data.\"\n",
    "}"
   ]
  },
  {
   "cell_type": "code",
   "execution_count": null,
   "metadata": {},
   "outputs": [],
   "source": [
    "from transformers import AutoModelForCausalLM, AutoTokenizer\n",
    "import openai\n",
    "import random\n",
    "import json\n",
    "import os\n",
    "\n",
    "# Set up your OpenAI API key\n",
    "openai.api_key = os.getenv('OPENAI_API_KEY')\n",
    "\n",
    "# Function to generate a scenario from GPT-4\n",
    "def generate_scenario():\n",
    "    prompt = \"\"\"\n",
    "    Generate a security scenario involving a buisness. The scenario should include specific risks or vulnerabilities, \n",
    "    such as cloud systems, employee actions, or third-party services. The scenario should also allud to potential security \n",
    "    attacks that could happen in the organization.\"\"\"\n",
    "    response = openai.completions.create(\n",
    "        model= \"gpt-3.5-turbo\", \n",
    "        prompt=prompt,\n",
    "        max_tokens=150,  # Adjust based on desired scenario length\n",
    "        temperature=0.7,  # Adjust creativity\n",
    "    )\n",
    "    return response['choices'][0]['text'].strip()\n",
    "\n",
    "# Main function to generate 1,000 scenarios\n",
    "def generate_dataset(num_scenarios=1000):\n",
    "    dataset = []\n",
    "    \n",
    "    for i in range(num_scenarios):\n",
    "        scenario = generate_scenario()\n",
    "        # attacks = map_attacks_to_scenario(scenario)\n",
    "        \n",
    "        entry = {\n",
    "            \"id\": i + 1,\n",
    "            \"scenario\": scenario,\n",
    "            # \"attacks\": [attack_map[attack] for attack in attacks]\n",
    "        }\n",
    "        dataset.append(entry)\n",
    "        \n",
    "        # Print progress\n",
    "        if (i + 1) % 100 == 0:\n",
    "            print(f\"Generated {i + 1} scenarios.\")\n",
    "    \n",
    "    return dataset"
   ]
  },
  {
   "cell_type": "code",
   "execution_count": null,
   "metadata": {},
   "outputs": [],
   "source": [
    "models = openai.models.list()\n",
    "models"
   ]
  },
  {
   "cell_type": "code",
   "execution_count": null,
   "metadata": {},
   "outputs": [],
   "source": [
    "df = generate_dataset()\n",
    "\n",
    "# # Optionally, save to a JSON or CSV file\n",
    "# with open('generated_dataset.csv', 'w') as f:\n",
    "#     json.dump(df, f, indent=4)\n",
    "\n",
    "#  Save as CSV\n",
    "df.to_csv(\"output.csv\", index=False)\n",
    "\n",
    "print(\"Dataset generated and saved!\")"
   ]
  },
  {
   "cell_type": "markdown",
   "metadata": {},
   "source": [
    "### HuggingFace"
   ]
  },
  {
   "cell_type": "code",
   "execution_count": null,
   "metadata": {},
   "outputs": [],
   "source": [
    "# !pip install transformers datasets torch"
   ]
  },
  {
   "cell_type": "code",
   "execution_count": 34,
   "metadata": {},
   "outputs": [],
   "source": [
    "# Example list of prompts (business context descriptions without attack types)\n",
    "ex_prompts = [\n",
    "    \"A healthcare organization stores patient records in a cloud-based system. Doctors and nurses access these records remotely using both work and personal devices. The organization also relies on third-party APIs to facilitate insurance claims processing. Recently, some employees have received suspicious emails requesting login credentials. Additionally, the hospital's IoT medical devices are connected to the same network as administrative systems.\",\n",
    "    \"An e-commerce company stores sensitive customer data such as credit card information, order history, and delivery addresses. Employees have access to the database, but some are concerned about data breaches. Recently, several users reported strange transactions in their accounts that they did not initiate. The company's website also relies on several third-party payment gateways.\",\n",
    "    \"A university's online system allows students to access grades, course materials, and financial information. Teachers and administrators update grades and assign courses. Recently, some students reported unauthorized access to their grades by unknown users. The system is connected to several external platforms for online learning and exams.\",\n",
    "    \"A financial institution handles large transactions and sensitive client data, including investment portfolios. Employees access client records remotely, and the institution has implemented multi-factor authentication. Despite these measures, recent suspicious login attempts have occurred, especially from overseas. The bank also uses third-party services for processing transactions and investments.\",\n",
    "    \"A manufacturing company uses IoT sensors to monitor equipment and ensure production efficiency. The factory's network is connected to the internet, and employees use remote access to check status reports. Recently, some employees noticed unusual activity in the system, with sensors transmitting abnormal data. The company also uses cloud-based services for inventory management.\"\n",
    "]"
   ]
  },
  {
   "cell_type": "code",
   "execution_count": null,
   "metadata": {},
   "outputs": [
    {
     "ename": "IndexError",
     "evalue": "too many indices for tensor of dimension 2",
     "output_type": "error",
     "traceback": [
      "\u001b[1;31m---------------------------------------------------------------------------\u001b[0m",
      "\u001b[1;31mIndexError\u001b[0m                                Traceback (most recent call last)",
      "Cell \u001b[1;32mIn[36], line 35\u001b[0m\n\u001b[0;32m     33\u001b[0m \u001b[38;5;28;01mfor\u001b[39;00m i \u001b[38;5;129;01min\u001b[39;00m \u001b[38;5;28mrange\u001b[39m(num_scenarios):  \u001b[38;5;66;03m# Change this number for more or fewer scenarios\u001b[39;00m\n\u001b[0;32m     34\u001b[0m     prompt \u001b[38;5;241m=\u001b[39m random\u001b[38;5;241m.\u001b[39mchoice(ex_prompts)  \u001b[38;5;66;03m# Randomly select a prompt from the list\u001b[39;00m\n\u001b[1;32m---> 35\u001b[0m     generated_scenario \u001b[38;5;241m=\u001b[39m generate_scenario(prompt)\n\u001b[0;32m     37\u001b[0m     \u001b[38;5;66;03m# Store the generated scenario\u001b[39;00m\n\u001b[0;32m     38\u001b[0m     generated_scenarios\u001b[38;5;241m.\u001b[39mappend({\n\u001b[0;32m     39\u001b[0m         \u001b[38;5;124m'\u001b[39m\u001b[38;5;124mscenario\u001b[39m\u001b[38;5;124m'\u001b[39m: generated_scenario\n\u001b[0;32m     40\u001b[0m     })\n",
      "Cell \u001b[1;32mIn[36], line 21\u001b[0m, in \u001b[0;36mgenerate_scenario\u001b[1;34m(prompt, max_length)\u001b[0m\n\u001b[0;32m     17\u001b[0m \u001b[38;5;28;01mdef\u001b[39;00m \u001b[38;5;21mgenerate_scenario\u001b[39m(prompt, max_length\u001b[38;5;241m=\u001b[39m\u001b[38;5;241m150\u001b[39m):\n\u001b[0;32m     18\u001b[0m      \u001b[38;5;66;03m# Tokenize the prompt with padding and return the attention mask\u001b[39;00m\n\u001b[0;32m     19\u001b[0m     inputs \u001b[38;5;241m=\u001b[39m tokenizer\u001b[38;5;241m.\u001b[39mencode(prompt, return_tensors\u001b[38;5;241m=\u001b[39m\u001b[38;5;124m\"\u001b[39m\u001b[38;5;124mpt\u001b[39m\u001b[38;5;124m\"\u001b[39m, padding\u001b[38;5;241m=\u001b[39m\u001b[38;5;28;01mTrue\u001b[39;00m, truncation\u001b[38;5;241m=\u001b[39m\u001b[38;5;28;01mTrue\u001b[39;00m, return_attention_mask\u001b[38;5;241m=\u001b[39m\u001b[38;5;28;01mTrue\u001b[39;00m)\n\u001b[1;32m---> 21\u001b[0m     input_ids \u001b[38;5;241m=\u001b[39m inputs[\u001b[38;5;124m'\u001b[39m\u001b[38;5;124minput_ids\u001b[39m\u001b[38;5;124m'\u001b[39m]\n\u001b[0;32m     22\u001b[0m     attention_mask \u001b[38;5;241m=\u001b[39m inputs[\u001b[38;5;124m'\u001b[39m\u001b[38;5;124mattention_mask\u001b[39m\u001b[38;5;124m'\u001b[39m]  \u001b[38;5;66;03m# Extract the attention mask\u001b[39;00m\n\u001b[0;32m     24\u001b[0m      \u001b[38;5;66;03m# Use the attention mask during model generation\u001b[39;00m\n",
      "\u001b[1;31mIndexError\u001b[0m: too many indices for tensor of dimension 2"
     ]
    }
   ],
   "source": [
    "import torch\n",
    "import csv\n",
    "from transformers import GPT2LMHeadModel, GPT2Tokenizer\n",
    "\n",
    "# Load pre-trained model and tokenizer\n",
    "model_name = 'gpt2' \n",
    "model = GPT2LMHeadModel.from_pretrained(model_name)\n",
    "tokenizer = GPT2Tokenizer.from_pretrained(model_name)\n",
    "\n",
    "# Set the pad_token to eos_token (common practice with GPT2 models)\n",
    "tokenizer.pad_token = tokenizer.eos_token\n",
    "\n",
    "# Ensure the model is in evaluation mode\n",
    "model.eval()\n",
    "\n",
    "# Function to generate a scenario based on a prompt\n",
    "def generate_scenario(prompt, max_length=150):\n",
    "     # Tokenize the prompt with padding and return the attention mask\n",
    "    inputs = tokenizer(prompt, return_tensors=\"pt\", padding=True, truncation=True, max_length=512)\n",
    "\n",
    "    input_ids = inputs['input_ids']\n",
    "    attention_mask = inputs['attention_mask']  # Extract the attention mask\n",
    "\n",
    "     # Use the attention mask during model generation\n",
    "    with torch.no_grad():\n",
    "        outputs = model.generate(input_ids, attention_mask=attention_mask, max_length=max_length, num_return_sequences=1, no_repeat_ngram_size=2, temperature=0.7)\n",
    "    \n",
    "    return tokenizer.decode(outputs[0], skip_special_tokens=True)\n",
    "\n",
    "# Generate scenarios using multiple prompts\n",
    "generated_scenarios = []\n",
    "num_scenarios = 10\n",
    "for i in range(num_scenarios):  # Change this number for more or fewer scenarios\n",
    "    prompt = random.choice(ex_prompts)  # Randomly select a prompt from the list\n",
    "    generated_scenario = generate_scenario(prompt)\n",
    "    \n",
    "    # Store the generated scenario\n",
    "    generated_scenarios.append({\n",
    "        'scenario': generated_scenario\n",
    "    })\n",
    "\n",
    "# Save the scenarios as a CSV file\n",
    "with open(\"generated_scenarios.csv\", mode='w', newline='', encoding='utf-8') as file:\n",
    "    writer = csv.DictWriter(file, fieldnames=['scenario'])\n",
    "    writer.writeheader()\n",
    "    \n",
    "    for entry in generated_scenarios:\n",
    "        writer.writerow(entry)\n",
    "\n",
    "print(f\"Dataset generation complete. {num_scenarios} scenarios with attack types saved.\")\n"
   ]
  },
  {
   "cell_type": "code",
   "execution_count": null,
   "metadata": {},
   "outputs": [],
   "source": []
  }
 ],
 "metadata": {
  "kernelspec": {
   "display_name": "LLMenv",
   "language": "python",
   "name": "python3"
  },
  "language_info": {
   "codemirror_mode": {
    "name": "ipython",
    "version": 3
   },
   "file_extension": ".py",
   "mimetype": "text/x-python",
   "name": "python",
   "nbconvert_exporter": "python",
   "pygments_lexer": "ipython3",
   "version": "3.13.2"
  }
 },
 "nbformat": 4,
 "nbformat_minor": 2
}
