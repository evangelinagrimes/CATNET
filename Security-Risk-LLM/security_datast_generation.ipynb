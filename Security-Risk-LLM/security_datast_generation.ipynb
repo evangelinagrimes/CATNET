{
 "cells": [
  {
   "cell_type": "markdown",
   "metadata": {},
   "source": [
    "# Security Dataset Generation\n",
    "This Notebook is intended to generate a security dataset. So far it's columns will consist of paragraph scenarios intended to feed into the LLM we will fine tune"
   ]
  },
  {
   "cell_type": "markdown",
   "metadata": {},
   "source": [
    "### Prompt Template\n",
    "Prompt: Generate a security scenario involving a buisness. The scenario should include specific risks or vulnerabilities, such as cloud systems, employee actions, or third-party services. The scenario should also allud to potential security attacks that could happen in the organization."
   ]
  },
  {
   "cell_type": "code",
   "execution_count": 2,
   "metadata": {},
   "outputs": [],
   "source": [
    "attack_map = {\n",
    "    \"Phishing\": \"A social engineering attack to steal sensitive information by impersonating a trustworthy entity.\",\n",
    "    \"Ransomware\": \"Malware that encrypts a victim's files, demanding a ransom to restore access.\",\n",
    "    \"Man-in-the-Middle\": \"An attack where a hacker intercepts communication between two parties to steal data.\",\n",
    "    \"Insider Threats\": \"Security risks originating from within the organization, such as malicious employees.\",\n",
    "    \"DDoS\": \"Distributed denial-of-service attacks to overwhelm systems, causing disruption of services.\",\n",
    "    \"SQL-injection\": \"Exploiting a web app's database query to access or manipulate data\",\n",
    "    \"Cross-Site-Scripting\": \"Injecting malicious scripts into web pages viewed by others.\",\n",
    "    \"Privilege Escalation\": \"This attack exploits vulnerabilities within business systems to gain higher access levels and steal or manipulate data.\"\n",
    "}"
   ]
  },
  {
   "cell_type": "code",
   "execution_count": 3,
   "metadata": {},
   "outputs": [],
   "source": [
    "import openai\n",
    "import random\n",
    "import json\n",
    "\n",
    "# Set up your OpenAI API key\n",
    "openai.api_key = 'OPENAI_API_KEY'\n",
    "\n",
    "# Function to generate a scenario from GPT-4\n",
    "def generate_scenario():\n",
    "    prompt = \"\"\"\n",
    "    Generate a security scenario involving a buisness. The scenario should include specific risks or vulnerabilities, \n",
    "    such as cloud systems, employee actions, or third-party services. The scenario should also allud to potential security \n",
    "    attacks that could happen in the organization.\"\"\"\n",
    "    response = openai.Completion.create(\n",
    "        model=\"text-davinci-003\",  # or another model like gpt-4 if available\n",
    "        prompt=prompt,\n",
    "        max_tokens=150,  # Adjust based on desired scenario length\n",
    "        temperature=0.7,  # Adjust creativity\n",
    "    )\n",
    "    return response['choices'][0]['text'].strip()\n",
    "\n",
    "# Main function to generate 1,000 scenarios\n",
    "def generate_dataset(num_scenarios=1000):\n",
    "    dataset = []\n",
    "    \n",
    "    for i in range(num_scenarios):\n",
    "        scenario = generate_scenario()\n",
    "        # attacks = map_attacks_to_scenario(scenario)\n",
    "        \n",
    "        entry = {\n",
    "            \"id\": i + 1,\n",
    "            \"scenario\": scenario,\n",
    "            # \"attacks\": [attack_map[attack] for attack in attacks]\n",
    "        }\n",
    "        dataset.append(entry)\n",
    "        \n",
    "        # Print progress\n",
    "        if (i + 1) % 100 == 0:\n",
    "            print(f\"Generated {i + 1} scenarios.\")\n",
    "    \n",
    "    return dataset"
   ]
  },
  {
   "cell_type": "code",
   "execution_count": null,
   "metadata": {},
   "outputs": [],
   "source": [
    "df = generate_dataset()\n",
    "\n",
    "# Optionally, save to a JSON or CSV file\n",
    "with open('generated_dataset.csv', 'w') as f:\n",
    "    json.dump(df, f, indent=4)"
   ]
  },
  {
   "cell_type": "code",
   "execution_count": null,
   "metadata": {},
   "outputs": [],
   "source": [
    "# Main script to generate 1,000 entries\n",
    "dataset = []\n",
    "for i in range(200):\n",
    "    entry = generate_data_entry()\n",
    "    dataset.append({\"id\": i + 1, \"data\": entry})\n",
    "\n",
    "# Optionally, save to a JSON or CSV file\n",
    "with open('generated_dataset.csv', 'w') as f:\n",
    "    json.dump(dataset, f, indent=4)\n",
    "\n",
    "print(\"Dataset generated and saved!\")"
   ]
  },
  {
   "cell_type": "code",
   "execution_count": null,
   "metadata": {},
   "outputs": [],
   "source": []
  }
 ],
 "metadata": {
  "kernelspec": {
   "display_name": "LLMenv",
   "language": "python",
   "name": "python3"
  },
  "language_info": {
   "codemirror_mode": {
    "name": "ipython",
    "version": 3
   },
   "file_extension": ".py",
   "mimetype": "text/x-python",
   "name": "python",
   "nbconvert_exporter": "python",
   "pygments_lexer": "ipython3",
   "version": "3.13.2"
  }
 },
 "nbformat": 4,
 "nbformat_minor": 2
}
